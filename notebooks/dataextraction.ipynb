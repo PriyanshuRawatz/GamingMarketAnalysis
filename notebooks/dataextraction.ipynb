{
 "cells": [
  {
   "cell_type": "code",
   "execution_count": 6,
   "metadata": {},
   "outputs": [
    {
     "name": "stdout",
     "output_type": "stream",
     "text": [
      "Processing: categories.zip\n",
      "  Extracting: categories.csv\n",
      "  Saved to: ../data/raw/categories_categories.csv\n",
      "Processing: promotional.zip\n",
      "  Extracting: promotional.csv\n",
      "  Saved to: ../data/raw/promotional_promotional.csv\n",
      "Processing: reviews.zip\n",
      "  Extracting: reviews.csv\n",
      "  Saved to: ../data/raw/reviews_reviews.csv\n",
      "Processing: tags.zip\n",
      "  Extracting: tags.csv\n",
      "  Saved to: ../data/raw/tags_tags.csv\n",
      "Processing: descriptions.zip\n",
      "  Extracting: descriptions.csv\n",
      "  Saved to: ../data/raw/descriptions_descriptions.csv\n",
      "Processing: steamspy_insights.zip\n",
      "  Extracting: steamspy_insights.csv\n",
      "  Saved to: ../data/raw/steamspy_insights_steamspy_insights.csv\n",
      "Processing: genres.zip\n",
      "  Extracting: genres.csv\n",
      "  Saved to: ../data/raw/genres_genres.csv\n",
      "Processing: games.zip\n",
      "  Extracting: games.csv\n",
      "  Saved to: ../data/raw/games_games.csv\n",
      "Extraction complete.\n"
     ]
    }
   ],
   "source": [
    "import os\n",
    "import zipfile\n",
    "\n",
    "# Define source (zip files) and destination (extracted CSVs) folder paths\n",
    "source_folder = \"../data/raw/zip\"\n",
    "destination_folder = \"../data/raw\"\n",
    "\n",
    "# Create destination folder if it doesn't already exist\n",
    "os.makedirs(destination_folder, exist_ok=True)\n",
    "\n",
    "# List all zip files in the source folder\n",
    "zip_files = [f for f in os.listdir(source_folder) if f.endswith('.zip')]\n",
    "\n",
    "# Process each zip file\n",
    "for zip_file in zip_files:\n",
    "    zip_path = os.path.join(source_folder, zip_file)\n",
    "    print(f\"Processing: {zip_file}\")\n",
    "    \n",
    "    # Open the zip file\n",
    "    with zipfile.ZipFile(zip_path, 'r') as z:\n",
    "        # Get a list of CSV files in the zip file\n",
    "        csv_files = [file for file in z.namelist() if file.endswith('.csv')]\n",
    "        \n",
    "        # Process each CSV file found in the current zip\n",
    "        for csv_file in csv_files:\n",
    "            print(f\"  Extracting: {csv_file}\")\n",
    "            # To avoid potential filename collisions (if different zip files contain CSVs with the same name)\n",
    "            # we prefix the CSV's basename with the zip file's name (without its extension)\n",
    "            base_name = os.path.basename(csv_file)\n",
    "            new_name = f\"{os.path.splitext(zip_file)[0]}_{base_name}\"\n",
    "            destination_file = os.path.join(destination_folder, new_name)\n",
    "            \n",
    "            # Read and write the file from the zip to the destination folder\n",
    "            with z.open(csv_file) as source_file, open(destination_file, 'wb') as target_file:\n",
    "                target_file.write(source_file.read())\n",
    "                \n",
    "            print(f\"  Saved to: {destination_file}\")\n",
    "            \n",
    "print(\"Extraction complete.\")"
   ]
  }
 ],
 "metadata": {
  "kernelspec": {
   "display_name": "Python 3",
   "language": "python",
   "name": "python3"
  },
  "language_info": {
   "codemirror_mode": {
    "name": "ipython",
    "version": 3
   },
   "file_extension": ".py",
   "mimetype": "text/x-python",
   "name": "python",
   "nbconvert_exporter": "python",
   "pygments_lexer": "ipython3",
   "version": "3.13.2"
  }
 },
 "nbformat": 4,
 "nbformat_minor": 2
}
